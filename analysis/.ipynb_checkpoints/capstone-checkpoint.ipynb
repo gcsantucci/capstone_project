{
 "cells": [
  {
   "cell_type": "markdown",
   "metadata": {},
   "source": [
    "# Classification of Proton Decay Events vs atm $\\nu$ Background"
   ]
  },
  {
   "cell_type": "markdown",
   "metadata": {},
   "source": [
    "Proton decay events are simulates in the Super-Kamiokande Experiment. In particular, the prompt gamma mode where the proton decays in the SUSY favored mode: $p\\rightarrow \\bar{\\nu}K^{+}$, the Kaon decays leptonically: $K^{+}\\rightarrow \\nu \\mu^{+}$, and the remaining nucleus emits a low energy deexcitation gamma.\n",
    "Background events for this search come from neutrinos produced in Earth's atmosphere that interact inside the detector faking a proton decay event."
   ]
  },
  {
   "cell_type": "markdown",
   "metadata": {},
   "source": [
    "Import the necessary modules for the analysis"
   ]
  },
  {
   "cell_type": "code",
   "execution_count": 51,
   "metadata": {
    "collapsed": true
   },
   "outputs": [],
   "source": [
    "%matplotlib inline\n",
    "import matplotlib.pyplot as plt\n",
    "import numpy as np\n",
    "import pandas as pd"
   ]
  },
  {
   "cell_type": "markdown",
   "metadata": {},
   "source": [
    "Read the data, with format given by columns:"
   ]
  },
  {
   "cell_type": "code",
   "execution_count": 2,
   "metadata": {
    "collapsed": true
   },
   "outputs": [],
   "source": [
    "files = '/Users/santucci/Dropbox/DataScience/Udacity/ML_nanodegree/P5_Capstone/capstone/project/data/pdkdata_{}.csv'\n",
    "pdk_file = files.format(1)\n",
    "atm_file = files.format(0)"
   ]
  },
  {
   "cell_type": "code",
   "execution_count": 18,
   "metadata": {
    "collapsed": false
   },
   "outputs": [],
   "source": [
    "columns = \"\"\"pmu,\n",
    "pgamma,\n",
    "deltat,\n",
    "pmgnll,\n",
    "enll,\n",
    "munll,\n",
    "pinll,\n",
    "open_ang,\n",
    "open_angElGamma,\n",
    "open_angMuEl,\n",
    "impact,\n",
    "dist,\n",
    "dist0,\n",
    "pi0nll,\n",
    "ppi01,\n",
    "ppi02,\n",
    "ppi0,\n",
    "pi0t0,\n",
    "mpi0,\n",
    "pi0ang,\n",
    "pms,\n",
    "pmichel\"\"\""
   ]
  },
  {
   "cell_type": "code",
   "execution_count": 19,
   "metadata": {
    "collapsed": false
   },
   "outputs": [],
   "source": [
    "names = columns.split('\\n')\n",
    "names = [i[:-1] if i!='pmichel' else i for i in names]"
   ]
  },
  {
   "cell_type": "code",
   "execution_count": 44,
   "metadata": {
    "collapsed": false
   },
   "outputs": [],
   "source": [
    "pdk_total = pd.read_csv(pdk_file, names=names)\n",
    "atm_total = pd.read_csv(atm_file, names=names)"
   ]
  },
  {
   "cell_type": "markdown",
   "metadata": {},
   "source": [
    "Basic inspection of data to see if it was read properly: "
   ]
  },
  {
   "cell_type": "code",
   "execution_count": 45,
   "metadata": {
    "collapsed": false
   },
   "outputs": [
    {
     "data": {
      "text/html": [
       "<div>\n",
       "<table border=\"1\" class=\"dataframe\">\n",
       "  <thead>\n",
       "    <tr style=\"text-align: right;\">\n",
       "      <th></th>\n",
       "      <th>pmu</th>\n",
       "      <th>pgamma</th>\n",
       "      <th>deltat</th>\n",
       "      <th>pmgnll</th>\n",
       "      <th>enll</th>\n",
       "      <th>munll</th>\n",
       "      <th>pinll</th>\n",
       "      <th>open_ang</th>\n",
       "      <th>open_angElGamma</th>\n",
       "      <th>open_angMuEl</th>\n",
       "      <th>...</th>\n",
       "      <th>dist0</th>\n",
       "      <th>pi0nll</th>\n",
       "      <th>ppi01</th>\n",
       "      <th>ppi02</th>\n",
       "      <th>ppi0</th>\n",
       "      <th>pi0t0</th>\n",
       "      <th>mpi0</th>\n",
       "      <th>pi0ang</th>\n",
       "      <th>pms</th>\n",
       "      <th>pmichel</th>\n",
       "    </tr>\n",
       "  </thead>\n",
       "  <tbody>\n",
       "    <tr>\n",
       "      <th>0</th>\n",
       "      <td>241.391</td>\n",
       "      <td>6.26128</td>\n",
       "      <td>14.613000</td>\n",
       "      <td>2558.25</td>\n",
       "      <td>2914.04</td>\n",
       "      <td>2664.15</td>\n",
       "      <td>2645.14</td>\n",
       "      <td>2.277740</td>\n",
       "      <td>1.99308</td>\n",
       "      <td>0.750705</td>\n",
       "      <td>...</td>\n",
       "      <td>29.6624</td>\n",
       "      <td>2855.03</td>\n",
       "      <td>20.7505</td>\n",
       "      <td>18.994700</td>\n",
       "      <td>38.0401</td>\n",
       "      <td>963.089</td>\n",
       "      <td>11.516500</td>\n",
       "      <td>0.588542</td>\n",
       "      <td>242.413</td>\n",
       "      <td>36.2222</td>\n",
       "    </tr>\n",
       "    <tr>\n",
       "      <th>1</th>\n",
       "      <td>231.414</td>\n",
       "      <td>2.20592</td>\n",
       "      <td>1.965090</td>\n",
       "      <td>3305.63</td>\n",
       "      <td>3567.35</td>\n",
       "      <td>3339.40</td>\n",
       "      <td>3336.74</td>\n",
       "      <td>2.721860</td>\n",
       "      <td>1.06760</td>\n",
       "      <td>2.477210</td>\n",
       "      <td>...</td>\n",
       "      <td>29.1421</td>\n",
       "      <td>3549.69</td>\n",
       "      <td>41.9162</td>\n",
       "      <td>1.642250</td>\n",
       "      <td>43.4761</td>\n",
       "      <td>930.614</td>\n",
       "      <td>2.678610</td>\n",
       "      <td>0.324267</td>\n",
       "      <td>230.885</td>\n",
       "      <td>18.4711</td>\n",
       "    </tr>\n",
       "    <tr>\n",
       "      <th>2</th>\n",
       "      <td>233.476</td>\n",
       "      <td>3.22373</td>\n",
       "      <td>0.177734</td>\n",
       "      <td>2002.50</td>\n",
       "      <td>2113.08</td>\n",
       "      <td>2022.08</td>\n",
       "      <td>2008.93</td>\n",
       "      <td>0.175061</td>\n",
       "      <td>2.19556</td>\n",
       "      <td>2.077550</td>\n",
       "      <td>...</td>\n",
       "      <td>61.0677</td>\n",
       "      <td>2093.94</td>\n",
       "      <td>41.5561</td>\n",
       "      <td>0.555372</td>\n",
       "      <td>42.1030</td>\n",
       "      <td>973.058</td>\n",
       "      <td>0.842795</td>\n",
       "      <td>0.175659</td>\n",
       "      <td>234.335</td>\n",
       "      <td>31.0928</td>\n",
       "    </tr>\n",
       "    <tr>\n",
       "      <th>3</th>\n",
       "      <td>245.813</td>\n",
       "      <td>5.20290</td>\n",
       "      <td>1.908630</td>\n",
       "      <td>3974.67</td>\n",
       "      <td>4257.48</td>\n",
       "      <td>4013.86</td>\n",
       "      <td>3992.31</td>\n",
       "      <td>0.860520</td>\n",
       "      <td>1.20056</td>\n",
       "      <td>0.413600</td>\n",
       "      <td>...</td>\n",
       "      <td>72.9799</td>\n",
       "      <td>4148.75</td>\n",
       "      <td>54.4148</td>\n",
       "      <td>7.265250</td>\n",
       "      <td>61.2030</td>\n",
       "      <td>963.632</td>\n",
       "      <td>7.656890</td>\n",
       "      <td>0.387516</td>\n",
       "      <td>246.149</td>\n",
       "      <td>33.5857</td>\n",
       "    </tr>\n",
       "    <tr>\n",
       "      <th>4</th>\n",
       "      <td>240.372</td>\n",
       "      <td>5.97949</td>\n",
       "      <td>4.830750</td>\n",
       "      <td>2809.95</td>\n",
       "      <td>3046.41</td>\n",
       "      <td>2889.52</td>\n",
       "      <td>2863.53</td>\n",
       "      <td>2.056880</td>\n",
       "      <td>1.48716</td>\n",
       "      <td>1.861790</td>\n",
       "      <td>...</td>\n",
       "      <td>63.2966</td>\n",
       "      <td>3017.51</td>\n",
       "      <td>39.3333</td>\n",
       "      <td>6.235480</td>\n",
       "      <td>45.1151</td>\n",
       "      <td>966.336</td>\n",
       "      <td>6.414010</td>\n",
       "      <td>0.412475</td>\n",
       "      <td>239.426</td>\n",
       "      <td>40.0410</td>\n",
       "    </tr>\n",
       "  </tbody>\n",
       "</table>\n",
       "<p>5 rows × 22 columns</p>\n",
       "</div>"
      ],
      "text/plain": [
       "       pmu   pgamma     deltat   pmgnll     enll    munll    pinll  open_ang  \\\n",
       "0  241.391  6.26128  14.613000  2558.25  2914.04  2664.15  2645.14  2.277740   \n",
       "1  231.414  2.20592   1.965090  3305.63  3567.35  3339.40  3336.74  2.721860   \n",
       "2  233.476  3.22373   0.177734  2002.50  2113.08  2022.08  2008.93  0.175061   \n",
       "3  245.813  5.20290   1.908630  3974.67  4257.48  4013.86  3992.31  0.860520   \n",
       "4  240.372  5.97949   4.830750  2809.95  3046.41  2889.52  2863.53  2.056880   \n",
       "\n",
       "   open_angElGamma  open_angMuEl   ...       dist0   pi0nll    ppi01  \\\n",
       "0          1.99308      0.750705   ...     29.6624  2855.03  20.7505   \n",
       "1          1.06760      2.477210   ...     29.1421  3549.69  41.9162   \n",
       "2          2.19556      2.077550   ...     61.0677  2093.94  41.5561   \n",
       "3          1.20056      0.413600   ...     72.9799  4148.75  54.4148   \n",
       "4          1.48716      1.861790   ...     63.2966  3017.51  39.3333   \n",
       "\n",
       "       ppi02     ppi0    pi0t0       mpi0    pi0ang      pms  pmichel  \n",
       "0  18.994700  38.0401  963.089  11.516500  0.588542  242.413  36.2222  \n",
       "1   1.642250  43.4761  930.614   2.678610  0.324267  230.885  18.4711  \n",
       "2   0.555372  42.1030  973.058   0.842795  0.175659  234.335  31.0928  \n",
       "3   7.265250  61.2030  963.632   7.656890  0.387516  246.149  33.5857  \n",
       "4   6.235480  45.1151  966.336   6.414010  0.412475  239.426  40.0410  \n",
       "\n",
       "[5 rows x 22 columns]"
      ]
     },
     "execution_count": 45,
     "metadata": {},
     "output_type": "execute_result"
    }
   ],
   "source": [
    "pdk_total.head()"
   ]
  },
  {
   "cell_type": "code",
   "execution_count": 46,
   "metadata": {
    "collapsed": false
   },
   "outputs": [
    {
     "data": {
      "text/html": [
       "<div>\n",
       "<table border=\"1\" class=\"dataframe\">\n",
       "  <thead>\n",
       "    <tr style=\"text-align: right;\">\n",
       "      <th></th>\n",
       "      <th>pmu</th>\n",
       "      <th>pgamma</th>\n",
       "      <th>deltat</th>\n",
       "      <th>pmgnll</th>\n",
       "      <th>enll</th>\n",
       "      <th>munll</th>\n",
       "      <th>pinll</th>\n",
       "      <th>open_ang</th>\n",
       "      <th>open_angElGamma</th>\n",
       "      <th>open_angMuEl</th>\n",
       "      <th>...</th>\n",
       "      <th>dist0</th>\n",
       "      <th>pi0nll</th>\n",
       "      <th>ppi01</th>\n",
       "      <th>ppi02</th>\n",
       "      <th>ppi0</th>\n",
       "      <th>pi0t0</th>\n",
       "      <th>mpi0</th>\n",
       "      <th>pi0ang</th>\n",
       "      <th>pms</th>\n",
       "      <th>pmichel</th>\n",
       "    </tr>\n",
       "  </thead>\n",
       "  <tbody>\n",
       "    <tr>\n",
       "      <th>0</th>\n",
       "      <td>228.749</td>\n",
       "      <td>4.20081</td>\n",
       "      <td>0.371948</td>\n",
       "      <td>2730.35</td>\n",
       "      <td>2796.10</td>\n",
       "      <td>2742.23</td>\n",
       "      <td>2732.36</td>\n",
       "      <td>1.18532</td>\n",
       "      <td>2.181390</td>\n",
       "      <td>1.139380</td>\n",
       "      <td>...</td>\n",
       "      <td>106.7750</td>\n",
       "      <td>2779.53</td>\n",
       "      <td>39.5197</td>\n",
       "      <td>1.808540</td>\n",
       "      <td>41.2905</td>\n",
       "      <td>976.278</td>\n",
       "      <td>1.765960</td>\n",
       "      <td>0.209267</td>\n",
       "      <td>230.501</td>\n",
       "      <td>43.55540</td>\n",
       "    </tr>\n",
       "    <tr>\n",
       "      <th>1</th>\n",
       "      <td>246.664</td>\n",
       "      <td>6.34188</td>\n",
       "      <td>1.610780</td>\n",
       "      <td>2621.84</td>\n",
       "      <td>2863.00</td>\n",
       "      <td>2698.61</td>\n",
       "      <td>2681.86</td>\n",
       "      <td>1.59260</td>\n",
       "      <td>0.629466</td>\n",
       "      <td>0.972799</td>\n",
       "      <td>...</td>\n",
       "      <td>31.2172</td>\n",
       "      <td>2842.83</td>\n",
       "      <td>48.3781</td>\n",
       "      <td>0.596231</td>\n",
       "      <td>48.9653</td>\n",
       "      <td>972.821</td>\n",
       "      <td>0.937224</td>\n",
       "      <td>0.174729</td>\n",
       "      <td>246.678</td>\n",
       "      <td>28.98000</td>\n",
       "    </tr>\n",
       "    <tr>\n",
       "      <th>2</th>\n",
       "      <td>242.924</td>\n",
       "      <td>2.75621</td>\n",
       "      <td>1.128050</td>\n",
       "      <td>2266.33</td>\n",
       "      <td>2363.87</td>\n",
       "      <td>2271.03</td>\n",
       "      <td>2255.27</td>\n",
       "      <td>1.85268</td>\n",
       "      <td>2.661000</td>\n",
       "      <td>1.003350</td>\n",
       "      <td>...</td>\n",
       "      <td>50.8724</td>\n",
       "      <td>2346.48</td>\n",
       "      <td>57.2483</td>\n",
       "      <td>0.597311</td>\n",
       "      <td>57.7841</td>\n",
       "      <td>980.979</td>\n",
       "      <td>2.667540</td>\n",
       "      <td>0.460223</td>\n",
       "      <td>247.482</td>\n",
       "      <td>25.12600</td>\n",
       "    </tr>\n",
       "    <tr>\n",
       "      <th>3</th>\n",
       "      <td>258.500</td>\n",
       "      <td>6.82106</td>\n",
       "      <td>3.373110</td>\n",
       "      <td>4294.38</td>\n",
       "      <td>4678.36</td>\n",
       "      <td>4398.24</td>\n",
       "      <td>4373.70</td>\n",
       "      <td>1.33615</td>\n",
       "      <td>1.015790</td>\n",
       "      <td>0.567112</td>\n",
       "      <td>...</td>\n",
       "      <td>140.9680</td>\n",
       "      <td>4644.29</td>\n",
       "      <td>36.6052</td>\n",
       "      <td>32.691500</td>\n",
       "      <td>68.6906</td>\n",
       "      <td>936.105</td>\n",
       "      <td>9.145360</td>\n",
       "      <td>0.265146</td>\n",
       "      <td>258.232</td>\n",
       "      <td>22.17040</td>\n",
       "    </tr>\n",
       "    <tr>\n",
       "      <th>4</th>\n",
       "      <td>245.857</td>\n",
       "      <td>6.48899</td>\n",
       "      <td>0.232117</td>\n",
       "      <td>3470.27</td>\n",
       "      <td>3698.13</td>\n",
       "      <td>3518.47</td>\n",
       "      <td>3493.29</td>\n",
       "      <td>2.07804</td>\n",
       "      <td>1.312920</td>\n",
       "      <td>1.227750</td>\n",
       "      <td>...</td>\n",
       "      <td>82.9542</td>\n",
       "      <td>3680.28</td>\n",
       "      <td>56.6713</td>\n",
       "      <td>0.578721</td>\n",
       "      <td>57.2463</td>\n",
       "      <td>939.141</td>\n",
       "      <td>0.657577</td>\n",
       "      <td>0.114887</td>\n",
       "      <td>247.221</td>\n",
       "      <td>4.89588</td>\n",
       "    </tr>\n",
       "  </tbody>\n",
       "</table>\n",
       "<p>5 rows × 22 columns</p>\n",
       "</div>"
      ],
      "text/plain": [
       "       pmu   pgamma    deltat   pmgnll     enll    munll    pinll  open_ang  \\\n",
       "0  228.749  4.20081  0.371948  2730.35  2796.10  2742.23  2732.36   1.18532   \n",
       "1  246.664  6.34188  1.610780  2621.84  2863.00  2698.61  2681.86   1.59260   \n",
       "2  242.924  2.75621  1.128050  2266.33  2363.87  2271.03  2255.27   1.85268   \n",
       "3  258.500  6.82106  3.373110  4294.38  4678.36  4398.24  4373.70   1.33615   \n",
       "4  245.857  6.48899  0.232117  3470.27  3698.13  3518.47  3493.29   2.07804   \n",
       "\n",
       "   open_angElGamma  open_angMuEl    ...        dist0   pi0nll    ppi01  \\\n",
       "0         2.181390      1.139380    ...     106.7750  2779.53  39.5197   \n",
       "1         0.629466      0.972799    ...      31.2172  2842.83  48.3781   \n",
       "2         2.661000      1.003350    ...      50.8724  2346.48  57.2483   \n",
       "3         1.015790      0.567112    ...     140.9680  4644.29  36.6052   \n",
       "4         1.312920      1.227750    ...      82.9542  3680.28  56.6713   \n",
       "\n",
       "       ppi02     ppi0    pi0t0      mpi0    pi0ang      pms   pmichel  \n",
       "0   1.808540  41.2905  976.278  1.765960  0.209267  230.501  43.55540  \n",
       "1   0.596231  48.9653  972.821  0.937224  0.174729  246.678  28.98000  \n",
       "2   0.597311  57.7841  980.979  2.667540  0.460223  247.482  25.12600  \n",
       "3  32.691500  68.6906  936.105  9.145360  0.265146  258.232  22.17040  \n",
       "4   0.578721  57.2463  939.141  0.657577  0.114887  247.221   4.89588  \n",
       "\n",
       "[5 rows x 22 columns]"
      ]
     },
     "execution_count": 46,
     "metadata": {},
     "output_type": "execute_result"
    }
   ],
   "source": [
    "atm_total.head()"
   ]
  },
  {
   "cell_type": "markdown",
   "metadata": {},
   "source": [
    "Data cleaning to only use certain features and some new features are created. Namely, the class type depending if it is a proton decay simulation or atmospheric neutrinos. Also, likelihood ratios are defined."
   ]
  },
  {
   "cell_type": "code",
   "execution_count": 47,
   "metadata": {
    "collapsed": false
   },
   "outputs": [],
   "source": [
    "pdk = pdk_total.drop(['pmgnll', 'enll', 'munll', 'pinll', 'ppi01', 'ppi02', 'pi0t0','mpi0', 'pi0ang', 'pms', 'pmichel', 'open_angElGamma', 'open_angMuEl'],1)\n",
    "pdk['mu_e'] = pdk_total['enll'] - pdk_total['munll']\n",
    "pdk['pmg_mu'] = pdk_total['munll'] - pdk_total['pmgnll']\n",
    "pdk['pi_mu'] = pdk_total['munll'] - pdk_total['pinll']\n",
    "pdk['Class'] = 1"
   ]
  },
  {
   "cell_type": "code",
   "execution_count": 48,
   "metadata": {
    "collapsed": true
   },
   "outputs": [],
   "source": [
    "atm = atm_total.drop(['pmgnll', 'enll', 'munll', 'pinll', 'ppi01', 'ppi02', 'pi0t0','mpi0', 'pi0ang', 'pms', 'pmichel', 'open_angElGamma', 'open_angMuEl'],1)\n",
    "atm['mu_e'] = atm_total['enll'] - atm_total['munll']\n",
    "atm['pmg_mu'] = atm_total['munll'] - atm_total['pmgnll']\n",
    "atm['pi_mu'] = atm_total['munll'] - atm_total['pinll']\n",
    "atm['Class'] = 0"
   ]
  },
  {
   "cell_type": "code",
   "execution_count": 49,
   "metadata": {
    "collapsed": false
   },
   "outputs": [
    {
     "data": {
      "text/html": [
       "<div>\n",
       "<table border=\"1\" class=\"dataframe\">\n",
       "  <thead>\n",
       "    <tr style=\"text-align: right;\">\n",
       "      <th></th>\n",
       "      <th>pmu</th>\n",
       "      <th>pgamma</th>\n",
       "      <th>deltat</th>\n",
       "      <th>open_ang</th>\n",
       "      <th>impact</th>\n",
       "      <th>dist</th>\n",
       "      <th>dist0</th>\n",
       "      <th>pi0nll</th>\n",
       "      <th>ppi0</th>\n",
       "      <th>mu_e</th>\n",
       "      <th>pmg_mu</th>\n",
       "      <th>pi_mu</th>\n",
       "      <th>Class</th>\n",
       "    </tr>\n",
       "  </thead>\n",
       "  <tbody>\n",
       "    <tr>\n",
       "      <th>0</th>\n",
       "      <td>241.391</td>\n",
       "      <td>6.26128</td>\n",
       "      <td>14.613000</td>\n",
       "      <td>2.277740</td>\n",
       "      <td>14.8869</td>\n",
       "      <td>35.8988</td>\n",
       "      <td>29.6624</td>\n",
       "      <td>2855.03</td>\n",
       "      <td>38.0401</td>\n",
       "      <td>249.89</td>\n",
       "      <td>105.90</td>\n",
       "      <td>19.01</td>\n",
       "      <td>1</td>\n",
       "    </tr>\n",
       "    <tr>\n",
       "      <th>1</th>\n",
       "      <td>231.414</td>\n",
       "      <td>2.20592</td>\n",
       "      <td>1.965090</td>\n",
       "      <td>2.721860</td>\n",
       "      <td>16.7900</td>\n",
       "      <td>34.4681</td>\n",
       "      <td>29.1421</td>\n",
       "      <td>3549.69</td>\n",
       "      <td>43.4761</td>\n",
       "      <td>227.95</td>\n",
       "      <td>33.77</td>\n",
       "      <td>2.66</td>\n",
       "      <td>1</td>\n",
       "    </tr>\n",
       "    <tr>\n",
       "      <th>2</th>\n",
       "      <td>233.476</td>\n",
       "      <td>3.22373</td>\n",
       "      <td>0.177734</td>\n",
       "      <td>0.175061</td>\n",
       "      <td>21.7911</td>\n",
       "      <td>21.9034</td>\n",
       "      <td>61.0677</td>\n",
       "      <td>2093.94</td>\n",
       "      <td>42.1030</td>\n",
       "      <td>91.00</td>\n",
       "      <td>19.58</td>\n",
       "      <td>13.15</td>\n",
       "      <td>1</td>\n",
       "    </tr>\n",
       "    <tr>\n",
       "      <th>3</th>\n",
       "      <td>245.813</td>\n",
       "      <td>5.20290</td>\n",
       "      <td>1.908630</td>\n",
       "      <td>0.860520</td>\n",
       "      <td>51.8033</td>\n",
       "      <td>52.5568</td>\n",
       "      <td>72.9799</td>\n",
       "      <td>4148.75</td>\n",
       "      <td>61.2030</td>\n",
       "      <td>243.62</td>\n",
       "      <td>39.19</td>\n",
       "      <td>21.55</td>\n",
       "      <td>1</td>\n",
       "    </tr>\n",
       "    <tr>\n",
       "      <th>4</th>\n",
       "      <td>240.372</td>\n",
       "      <td>5.97949</td>\n",
       "      <td>4.830750</td>\n",
       "      <td>2.056880</td>\n",
       "      <td>52.6895</td>\n",
       "      <td>57.4101</td>\n",
       "      <td>63.2966</td>\n",
       "      <td>3017.51</td>\n",
       "      <td>45.1151</td>\n",
       "      <td>156.89</td>\n",
       "      <td>79.57</td>\n",
       "      <td>25.99</td>\n",
       "      <td>1</td>\n",
       "    </tr>\n",
       "  </tbody>\n",
       "</table>\n",
       "</div>"
      ],
      "text/plain": [
       "       pmu   pgamma     deltat  open_ang   impact     dist    dist0   pi0nll  \\\n",
       "0  241.391  6.26128  14.613000  2.277740  14.8869  35.8988  29.6624  2855.03   \n",
       "1  231.414  2.20592   1.965090  2.721860  16.7900  34.4681  29.1421  3549.69   \n",
       "2  233.476  3.22373   0.177734  0.175061  21.7911  21.9034  61.0677  2093.94   \n",
       "3  245.813  5.20290   1.908630  0.860520  51.8033  52.5568  72.9799  4148.75   \n",
       "4  240.372  5.97949   4.830750  2.056880  52.6895  57.4101  63.2966  3017.51   \n",
       "\n",
       "      ppi0    mu_e  pmg_mu  pi_mu  Class  \n",
       "0  38.0401  249.89  105.90  19.01      1  \n",
       "1  43.4761  227.95   33.77   2.66      1  \n",
       "2  42.1030   91.00   19.58  13.15      1  \n",
       "3  61.2030  243.62   39.19  21.55      1  \n",
       "4  45.1151  156.89   79.57  25.99      1  "
      ]
     },
     "execution_count": 49,
     "metadata": {},
     "output_type": "execute_result"
    }
   ],
   "source": [
    "pdk.head()"
   ]
  },
  {
   "cell_type": "code",
   "execution_count": 50,
   "metadata": {
    "collapsed": false
   },
   "outputs": [
    {
     "data": {
      "text/html": [
       "<div>\n",
       "<table border=\"1\" class=\"dataframe\">\n",
       "  <thead>\n",
       "    <tr style=\"text-align: right;\">\n",
       "      <th></th>\n",
       "      <th>pmu</th>\n",
       "      <th>pgamma</th>\n",
       "      <th>deltat</th>\n",
       "      <th>open_ang</th>\n",
       "      <th>impact</th>\n",
       "      <th>dist</th>\n",
       "      <th>dist0</th>\n",
       "      <th>pi0nll</th>\n",
       "      <th>ppi0</th>\n",
       "      <th>mu_e</th>\n",
       "      <th>pmg_mu</th>\n",
       "      <th>pi_mu</th>\n",
       "      <th>Class</th>\n",
       "    </tr>\n",
       "  </thead>\n",
       "  <tbody>\n",
       "    <tr>\n",
       "      <th>0</th>\n",
       "      <td>228.749</td>\n",
       "      <td>4.20081</td>\n",
       "      <td>0.371948</td>\n",
       "      <td>1.18532</td>\n",
       "      <td>68.24280</td>\n",
       "      <td>74.2964</td>\n",
       "      <td>106.7750</td>\n",
       "      <td>2779.53</td>\n",
       "      <td>41.2905</td>\n",
       "      <td>53.87</td>\n",
       "      <td>11.88</td>\n",
       "      <td>9.87</td>\n",
       "      <td>0</td>\n",
       "    </tr>\n",
       "    <tr>\n",
       "      <th>1</th>\n",
       "      <td>246.664</td>\n",
       "      <td>6.34188</td>\n",
       "      <td>1.610780</td>\n",
       "      <td>1.59260</td>\n",
       "      <td>28.50080</td>\n",
       "      <td>55.7484</td>\n",
       "      <td>31.2172</td>\n",
       "      <td>2842.83</td>\n",
       "      <td>48.9653</td>\n",
       "      <td>164.39</td>\n",
       "      <td>76.77</td>\n",
       "      <td>16.75</td>\n",
       "      <td>0</td>\n",
       "    </tr>\n",
       "    <tr>\n",
       "      <th>2</th>\n",
       "      <td>242.924</td>\n",
       "      <td>2.75621</td>\n",
       "      <td>1.128050</td>\n",
       "      <td>1.85268</td>\n",
       "      <td>7.49464</td>\n",
       "      <td>11.4690</td>\n",
       "      <td>50.8724</td>\n",
       "      <td>2346.48</td>\n",
       "      <td>57.7841</td>\n",
       "      <td>92.84</td>\n",
       "      <td>4.70</td>\n",
       "      <td>15.76</td>\n",
       "      <td>0</td>\n",
       "    </tr>\n",
       "    <tr>\n",
       "      <th>3</th>\n",
       "      <td>258.500</td>\n",
       "      <td>6.82106</td>\n",
       "      <td>3.373110</td>\n",
       "      <td>1.33615</td>\n",
       "      <td>37.52420</td>\n",
       "      <td>79.3712</td>\n",
       "      <td>140.9680</td>\n",
       "      <td>4644.29</td>\n",
       "      <td>68.6906</td>\n",
       "      <td>280.12</td>\n",
       "      <td>103.86</td>\n",
       "      <td>24.54</td>\n",
       "      <td>0</td>\n",
       "    </tr>\n",
       "    <tr>\n",
       "      <th>4</th>\n",
       "      <td>245.857</td>\n",
       "      <td>6.48899</td>\n",
       "      <td>0.232117</td>\n",
       "      <td>2.07804</td>\n",
       "      <td>72.87320</td>\n",
       "      <td>75.7447</td>\n",
       "      <td>82.9542</td>\n",
       "      <td>3680.28</td>\n",
       "      <td>57.2463</td>\n",
       "      <td>179.66</td>\n",
       "      <td>48.20</td>\n",
       "      <td>25.18</td>\n",
       "      <td>0</td>\n",
       "    </tr>\n",
       "  </tbody>\n",
       "</table>\n",
       "</div>"
      ],
      "text/plain": [
       "       pmu   pgamma    deltat  open_ang    impact     dist     dist0   pi0nll  \\\n",
       "0  228.749  4.20081  0.371948   1.18532  68.24280  74.2964  106.7750  2779.53   \n",
       "1  246.664  6.34188  1.610780   1.59260  28.50080  55.7484   31.2172  2842.83   \n",
       "2  242.924  2.75621  1.128050   1.85268   7.49464  11.4690   50.8724  2346.48   \n",
       "3  258.500  6.82106  3.373110   1.33615  37.52420  79.3712  140.9680  4644.29   \n",
       "4  245.857  6.48899  0.232117   2.07804  72.87320  75.7447   82.9542  3680.28   \n",
       "\n",
       "      ppi0    mu_e  pmg_mu  pi_mu  Class  \n",
       "0  41.2905   53.87   11.88   9.87      0  \n",
       "1  48.9653  164.39   76.77  16.75      0  \n",
       "2  57.7841   92.84    4.70  15.76      0  \n",
       "3  68.6906  280.12  103.86  24.54      0  \n",
       "4  57.2463  179.66   48.20  25.18      0  "
      ]
     },
     "execution_count": 50,
     "metadata": {},
     "output_type": "execute_result"
    }
   ],
   "source": [
    "atm.head()"
   ]
  },
  {
   "cell_type": "markdown",
   "metadata": {},
   "source": [
    "Merge both data sets into one data frame and perform basic sanity check:"
   ]
  },
  {
   "cell_type": "code",
   "execution_count": 54,
   "metadata": {
    "collapsed": true
   },
   "outputs": [],
   "source": [
    "data = pd.concat([pdk, atm], ignore_index=True)"
   ]
  },
  {
   "cell_type": "code",
   "execution_count": 55,
   "metadata": {
    "collapsed": false
   },
   "outputs": [
    {
     "data": {
      "text/html": [
       "<div>\n",
       "<table border=\"1\" class=\"dataframe\">\n",
       "  <thead>\n",
       "    <tr style=\"text-align: right;\">\n",
       "      <th></th>\n",
       "      <th>pmu</th>\n",
       "      <th>pgamma</th>\n",
       "      <th>deltat</th>\n",
       "      <th>open_ang</th>\n",
       "      <th>impact</th>\n",
       "      <th>dist</th>\n",
       "      <th>dist0</th>\n",
       "      <th>pi0nll</th>\n",
       "      <th>ppi0</th>\n",
       "      <th>mu_e</th>\n",
       "      <th>pmg_mu</th>\n",
       "      <th>pi_mu</th>\n",
       "      <th>Class</th>\n",
       "    </tr>\n",
       "  </thead>\n",
       "  <tbody>\n",
       "    <tr>\n",
       "      <th>0</th>\n",
       "      <td>241.391</td>\n",
       "      <td>6.26128</td>\n",
       "      <td>14.613000</td>\n",
       "      <td>2.277740</td>\n",
       "      <td>14.8869</td>\n",
       "      <td>35.8988</td>\n",
       "      <td>29.6624</td>\n",
       "      <td>2855.03</td>\n",
       "      <td>38.0401</td>\n",
       "      <td>249.89</td>\n",
       "      <td>105.90</td>\n",
       "      <td>19.01</td>\n",
       "      <td>1</td>\n",
       "    </tr>\n",
       "    <tr>\n",
       "      <th>1</th>\n",
       "      <td>231.414</td>\n",
       "      <td>2.20592</td>\n",
       "      <td>1.965090</td>\n",
       "      <td>2.721860</td>\n",
       "      <td>16.7900</td>\n",
       "      <td>34.4681</td>\n",
       "      <td>29.1421</td>\n",
       "      <td>3549.69</td>\n",
       "      <td>43.4761</td>\n",
       "      <td>227.95</td>\n",
       "      <td>33.77</td>\n",
       "      <td>2.66</td>\n",
       "      <td>1</td>\n",
       "    </tr>\n",
       "    <tr>\n",
       "      <th>2</th>\n",
       "      <td>233.476</td>\n",
       "      <td>3.22373</td>\n",
       "      <td>0.177734</td>\n",
       "      <td>0.175061</td>\n",
       "      <td>21.7911</td>\n",
       "      <td>21.9034</td>\n",
       "      <td>61.0677</td>\n",
       "      <td>2093.94</td>\n",
       "      <td>42.1030</td>\n",
       "      <td>91.00</td>\n",
       "      <td>19.58</td>\n",
       "      <td>13.15</td>\n",
       "      <td>1</td>\n",
       "    </tr>\n",
       "    <tr>\n",
       "      <th>3</th>\n",
       "      <td>245.813</td>\n",
       "      <td>5.20290</td>\n",
       "      <td>1.908630</td>\n",
       "      <td>0.860520</td>\n",
       "      <td>51.8033</td>\n",
       "      <td>52.5568</td>\n",
       "      <td>72.9799</td>\n",
       "      <td>4148.75</td>\n",
       "      <td>61.2030</td>\n",
       "      <td>243.62</td>\n",
       "      <td>39.19</td>\n",
       "      <td>21.55</td>\n",
       "      <td>1</td>\n",
       "    </tr>\n",
       "    <tr>\n",
       "      <th>4</th>\n",
       "      <td>240.372</td>\n",
       "      <td>5.97949</td>\n",
       "      <td>4.830750</td>\n",
       "      <td>2.056880</td>\n",
       "      <td>52.6895</td>\n",
       "      <td>57.4101</td>\n",
       "      <td>63.2966</td>\n",
       "      <td>3017.51</td>\n",
       "      <td>45.1151</td>\n",
       "      <td>156.89</td>\n",
       "      <td>79.57</td>\n",
       "      <td>25.99</td>\n",
       "      <td>1</td>\n",
       "    </tr>\n",
       "  </tbody>\n",
       "</table>\n",
       "</div>"
      ],
      "text/plain": [
       "       pmu   pgamma     deltat  open_ang   impact     dist    dist0   pi0nll  \\\n",
       "0  241.391  6.26128  14.613000  2.277740  14.8869  35.8988  29.6624  2855.03   \n",
       "1  231.414  2.20592   1.965090  2.721860  16.7900  34.4681  29.1421  3549.69   \n",
       "2  233.476  3.22373   0.177734  0.175061  21.7911  21.9034  61.0677  2093.94   \n",
       "3  245.813  5.20290   1.908630  0.860520  51.8033  52.5568  72.9799  4148.75   \n",
       "4  240.372  5.97949   4.830750  2.056880  52.6895  57.4101  63.2966  3017.51   \n",
       "\n",
       "      ppi0    mu_e  pmg_mu  pi_mu  Class  \n",
       "0  38.0401  249.89  105.90  19.01      1  \n",
       "1  43.4761  227.95   33.77   2.66      1  \n",
       "2  42.1030   91.00   19.58  13.15      1  \n",
       "3  61.2030  243.62   39.19  21.55      1  \n",
       "4  45.1151  156.89   79.57  25.99      1  "
      ]
     },
     "execution_count": 55,
     "metadata": {},
     "output_type": "execute_result"
    }
   ],
   "source": [
    "data.head()"
   ]
  },
  {
   "cell_type": "code",
   "execution_count": 56,
   "metadata": {
    "collapsed": false
   },
   "outputs": [
    {
     "data": {
      "text/html": [
       "<div>\n",
       "<table border=\"1\" class=\"dataframe\">\n",
       "  <thead>\n",
       "    <tr style=\"text-align: right;\">\n",
       "      <th></th>\n",
       "      <th>pmu</th>\n",
       "      <th>pgamma</th>\n",
       "      <th>deltat</th>\n",
       "      <th>open_ang</th>\n",
       "      <th>impact</th>\n",
       "      <th>dist</th>\n",
       "      <th>dist0</th>\n",
       "      <th>pi0nll</th>\n",
       "      <th>ppi0</th>\n",
       "      <th>mu_e</th>\n",
       "      <th>pmg_mu</th>\n",
       "      <th>pi_mu</th>\n",
       "      <th>Class</th>\n",
       "    </tr>\n",
       "  </thead>\n",
       "  <tbody>\n",
       "    <tr>\n",
       "      <th>52970</th>\n",
       "      <td>247.648</td>\n",
       "      <td>6.65141</td>\n",
       "      <td>1.777590</td>\n",
       "      <td>1.425790</td>\n",
       "      <td>59.1203</td>\n",
       "      <td>59.1217</td>\n",
       "      <td>84.7140</td>\n",
       "      <td>5009.73</td>\n",
       "      <td>61.1620</td>\n",
       "      <td>242.07</td>\n",
       "      <td>91.95</td>\n",
       "      <td>29.05</td>\n",
       "      <td>0</td>\n",
       "    </tr>\n",
       "    <tr>\n",
       "      <th>52971</th>\n",
       "      <td>220.567</td>\n",
       "      <td>4.54587</td>\n",
       "      <td>1.746580</td>\n",
       "      <td>0.659527</td>\n",
       "      <td>27.9286</td>\n",
       "      <td>27.9716</td>\n",
       "      <td>57.8948</td>\n",
       "      <td>3025.70</td>\n",
       "      <td>40.6072</td>\n",
       "      <td>165.24</td>\n",
       "      <td>32.85</td>\n",
       "      <td>23.90</td>\n",
       "      <td>0</td>\n",
       "    </tr>\n",
       "    <tr>\n",
       "      <th>52972</th>\n",
       "      <td>260.676</td>\n",
       "      <td>5.57783</td>\n",
       "      <td>2.389830</td>\n",
       "      <td>2.691140</td>\n",
       "      <td>16.8382</td>\n",
       "      <td>25.5875</td>\n",
       "      <td>50.5605</td>\n",
       "      <td>4586.94</td>\n",
       "      <td>69.8079</td>\n",
       "      <td>198.58</td>\n",
       "      <td>67.60</td>\n",
       "      <td>15.27</td>\n",
       "      <td>0</td>\n",
       "    </tr>\n",
       "    <tr>\n",
       "      <th>52973</th>\n",
       "      <td>212.778</td>\n",
       "      <td>5.97918</td>\n",
       "      <td>0.115295</td>\n",
       "      <td>0.932033</td>\n",
       "      <td>27.2751</td>\n",
       "      <td>55.1514</td>\n",
       "      <td>97.7204</td>\n",
       "      <td>2573.98</td>\n",
       "      <td>33.7420</td>\n",
       "      <td>100.53</td>\n",
       "      <td>48.72</td>\n",
       "      <td>14.29</td>\n",
       "      <td>0</td>\n",
       "    </tr>\n",
       "    <tr>\n",
       "      <th>52974</th>\n",
       "      <td>218.726</td>\n",
       "      <td>3.55055</td>\n",
       "      <td>3.441100</td>\n",
       "      <td>1.065330</td>\n",
       "      <td>36.6207</td>\n",
       "      <td>63.6685</td>\n",
       "      <td>36.8061</td>\n",
       "      <td>3208.61</td>\n",
       "      <td>40.0615</td>\n",
       "      <td>111.76</td>\n",
       "      <td>32.39</td>\n",
       "      <td>15.53</td>\n",
       "      <td>0</td>\n",
       "    </tr>\n",
       "  </tbody>\n",
       "</table>\n",
       "</div>"
      ],
      "text/plain": [
       "           pmu   pgamma    deltat  open_ang   impact     dist    dist0  \\\n",
       "52970  247.648  6.65141  1.777590  1.425790  59.1203  59.1217  84.7140   \n",
       "52971  220.567  4.54587  1.746580  0.659527  27.9286  27.9716  57.8948   \n",
       "52972  260.676  5.57783  2.389830  2.691140  16.8382  25.5875  50.5605   \n",
       "52973  212.778  5.97918  0.115295  0.932033  27.2751  55.1514  97.7204   \n",
       "52974  218.726  3.55055  3.441100  1.065330  36.6207  63.6685  36.8061   \n",
       "\n",
       "        pi0nll     ppi0    mu_e  pmg_mu  pi_mu  Class  \n",
       "52970  5009.73  61.1620  242.07   91.95  29.05      0  \n",
       "52971  3025.70  40.6072  165.24   32.85  23.90      0  \n",
       "52972  4586.94  69.8079  198.58   67.60  15.27      0  \n",
       "52973  2573.98  33.7420  100.53   48.72  14.29      0  \n",
       "52974  3208.61  40.0615  111.76   32.39  15.53      0  "
      ]
     },
     "execution_count": 56,
     "metadata": {},
     "output_type": "execute_result"
    }
   ],
   "source": [
    "data.tail()"
   ]
  },
  {
   "cell_type": "code",
   "execution_count": 68,
   "metadata": {
    "collapsed": false
   },
   "outputs": [
    {
     "data": {
      "text/plain": [
       "True"
      ]
     },
     "execution_count": 68,
     "metadata": {},
     "output_type": "execute_result"
    }
   ],
   "source": [
    "len(data) == len(pdk) + len(atm)"
   ]
  },
  {
   "cell_type": "code",
   "execution_count": 77,
   "metadata": {
    "collapsed": false
   },
   "outputs": [],
   "source": [
    "features = data.drop(['Class'],1)\n",
    "labels = data['Class']"
   ]
  },
  {
   "cell_type": "code",
   "execution_count": 78,
   "metadata": {
    "collapsed": true
   },
   "outputs": [],
   "source": [
    "from sklearn.tree import DecisionTreeClassifier as Tree"
   ]
  },
  {
   "cell_type": "code",
   "execution_count": 79,
   "metadata": {
    "collapsed": true
   },
   "outputs": [],
   "source": [
    "tree = Tree(criterion='gini', splitter='best', max_depth=None, min_samples_split=.1, min_samples_leaf=1, min_weight_fraction_leaf=0.0, max_features=None, random_state=42)"
   ]
  },
  {
   "cell_type": "code",
   "execution_count": 80,
   "metadata": {
    "collapsed": false
   },
   "outputs": [
    {
     "name": "stderr",
     "output_type": "stream",
     "text": [
      "/Users/santucci/anaconda3/lib/python3.6/site-packages/sklearn/cross_validation.py:44: DeprecationWarning: This module was deprecated in version 0.18 in favor of the model_selection module into which all the refactored classes and functions are moved. Also note that the interface of the new CV iterators are different from that of this module. This module will be removed in 0.20.\n",
      "  \"This module will be removed in 0.20.\", DeprecationWarning)\n"
     ]
    }
   ],
   "source": [
    "def split_data(X, y):\n",
    "    from sklearn.cross_validation import train_test_split\n",
    "    return train_test_split(X, y, test_size=0.2, random_state = 42)\n",
    "\n",
    "X_train, X_test, y_train, y_test = split_data(features, labels)"
   ]
  },
  {
   "cell_type": "code",
   "execution_count": 81,
   "metadata": {
    "collapsed": false
   },
   "outputs": [
    {
     "data": {
      "text/plain": [
       "DecisionTreeClassifier(class_weight=None, criterion='gini', max_depth=None,\n",
       "            max_features=None, max_leaf_nodes=None,\n",
       "            min_impurity_split=1e-07, min_samples_leaf=1,\n",
       "            min_samples_split=0.1, min_weight_fraction_leaf=0.0,\n",
       "            presort=False, random_state=42, splitter='best')"
      ]
     },
     "execution_count": 81,
     "metadata": {},
     "output_type": "execute_result"
    }
   ],
   "source": [
    "tree.fit(X_train, y_train)"
   ]
  },
  {
   "cell_type": "code",
   "execution_count": 83,
   "metadata": {
    "collapsed": false
   },
   "outputs": [
    {
     "data": {
      "text/plain": [
       "0.8617272298253893"
      ]
     },
     "execution_count": 83,
     "metadata": {},
     "output_type": "execute_result"
    }
   ],
   "source": [
    "tree.score(X_test, y_test)"
   ]
  },
  {
   "cell_type": "code",
   "execution_count": 85,
   "metadata": {
    "collapsed": false
   },
   "outputs": [],
   "source": [
    "y_pred = tree.predict(X_test)"
   ]
  },
  {
   "cell_type": "code",
   "execution_count": 89,
   "metadata": {
    "collapsed": false
   },
   "outputs": [
    {
     "data": {
      "text/plain": [
       "5256"
      ]
     },
     "execution_count": 89,
     "metadata": {},
     "output_type": "execute_result"
    }
   ],
   "source": [
    "sum(y_pred)"
   ]
  },
  {
   "cell_type": "code",
   "execution_count": 88,
   "metadata": {
    "collapsed": false
   },
   "outputs": [
    {
     "data": {
      "text/plain": [
       "527"
      ]
     },
     "execution_count": 88,
     "metadata": {},
     "output_type": "execute_result"
    }
   ],
   "source": [
    "sum(y_test - y_pred == -1)"
   ]
  },
  {
   "cell_type": "code",
   "execution_count": 82,
   "metadata": {
    "collapsed": false
   },
   "outputs": [
    {
     "ename": "AttributeError",
     "evalue": "'DecisionTreeClassifier' object has no attribute 'export_graphviz'",
     "output_type": "error",
     "traceback": [
      "\u001b[0;31m---------------------------------------------------------------------------\u001b[0m",
      "\u001b[0;31mAttributeError\u001b[0m                            Traceback (most recent call last)",
      "\u001b[0;32m<ipython-input-82-d5aa88b8dc4c>\u001b[0m in \u001b[0;36m<module>\u001b[0;34m()\u001b[0m\n\u001b[1;32m      1\u001b[0m \u001b[0;32mfrom\u001b[0m \u001b[0mIPython\u001b[0m\u001b[0;34m.\u001b[0m\u001b[0mdisplay\u001b[0m \u001b[0;32mimport\u001b[0m \u001b[0mImage\u001b[0m\u001b[0;34m\u001b[0m\u001b[0m\n\u001b[0;32m----> 2\u001b[0;31m dot_data = tree.export_graphviz(clf, out_file=None, \n\u001b[0m\u001b[1;32m      3\u001b[0m                          \u001b[0mfeature_names\u001b[0m\u001b[0;34m=\u001b[0m\u001b[0miris\u001b[0m\u001b[0;34m.\u001b[0m\u001b[0mfeature_names\u001b[0m\u001b[0;34m,\u001b[0m\u001b[0;34m\u001b[0m\u001b[0m\n\u001b[1;32m      4\u001b[0m                          \u001b[0mclass_names\u001b[0m\u001b[0;34m=\u001b[0m\u001b[0miris\u001b[0m\u001b[0;34m.\u001b[0m\u001b[0mtarget_names\u001b[0m\u001b[0;34m,\u001b[0m\u001b[0;34m\u001b[0m\u001b[0m\n\u001b[1;32m      5\u001b[0m                          \u001b[0mfilled\u001b[0m\u001b[0;34m=\u001b[0m\u001b[0;32mTrue\u001b[0m\u001b[0;34m,\u001b[0m \u001b[0mrounded\u001b[0m\u001b[0;34m=\u001b[0m\u001b[0;32mTrue\u001b[0m\u001b[0;34m,\u001b[0m\u001b[0;34m\u001b[0m\u001b[0m\n",
      "\u001b[0;31mAttributeError\u001b[0m: 'DecisionTreeClassifier' object has no attribute 'export_graphviz'"
     ]
    }
   ],
   "source": [
    "from IPython.display import Image  \n",
    "dot_data = tree.export_graphviz(clf, out_file=None, \n",
    "                         feature_names=iris.feature_names,  \n",
    "                         class_names=iris.target_names,  \n",
    "                         filled=True, rounded=True,  \n",
    "                         special_characters=True)  \n",
    "graph = pydotplus.graph_from_dot_data(dot_data)  \n",
    "Image(graph.create_png())  "
   ]
  },
  {
   "cell_type": "code",
   "execution_count": null,
   "metadata": {
    "collapsed": true
   },
   "outputs": [],
   "source": []
  }
 ],
 "metadata": {
  "kernelspec": {
   "display_name": "Python 3",
   "language": "python",
   "name": "python3"
  },
  "language_info": {
   "codemirror_mode": {
    "name": "ipython",
    "version": 3
   },
   "file_extension": ".py",
   "mimetype": "text/x-python",
   "name": "python",
   "nbconvert_exporter": "python",
   "pygments_lexer": "ipython3",
   "version": "3.6.0"
  }
 },
 "nbformat": 4,
 "nbformat_minor": 2
}
